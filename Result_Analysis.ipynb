{
  "nbformat": 4,
  "nbformat_minor": 0,
  "metadata": {
    "colab": {
      "provenance": [],
      "collapsed_sections": [
        "U5wun6dE_Hdq",
        "jd7HgTcgbTJG"
      ]
    },
    "kernelspec": {
      "name": "python3",
      "display_name": "Python 3"
    },
    "language_info": {
      "name": "python"
    },
    "accelerator": "GPU",
    "gpuClass": "standard"
  },
  "cells": [
    {
      "cell_type": "code",
      "execution_count": null,
      "metadata": {
        "id": "OPluEh1MSI2K"
      },
      "outputs": [],
      "source": [
        "from google.colab import drive\n",
        "drive.mount('/content/drive')"
      ]
    },
    {
      "cell_type": "code",
      "source": [
        "import torch\n",
        "import os\n",
        "import torchvision.utils\n",
        "import torchvision.transforms as transforms\n",
        "import torchvision.datasets as datasets\n",
        "import torch.utils.data as td\n",
        "import numpy as np\n",
        "import matplotlib.pyplot as plt\n",
        "import torch.nn as nn\n",
        "import torch.nn.functional as F\n",
        "from torchvision.io import read_image\n",
        "from torchvision.models import resnet50, ResNet50_Weights\n",
        "from matplotlib import image\n",
        "from matplotlib import pyplot\n",
        "from sklearn.metrics import confusion_matrix\n",
        "import seaborn as sns\n",
        "import pandas as pd\n",
        "from sklearn.metrics import classification_report\n",
        "import time\n",
        "import warnings\n",
        "warnings.filterwarnings('ignore')"
      ],
      "metadata": {
        "id": "gzKkwfxlSN9q"
      },
      "execution_count": null,
      "outputs": []
    },
    {
      "cell_type": "code",
      "source": [
        "def image_preprocess(path, train_split, val_split, batch_size, inp_size):\n",
        "  normalize = transforms.Normalize(mean=[0.485, 0.456, 0.406], std=[0.229, 0.224, 0.225])\n",
        "  transform=transforms.Compose([transforms.Resize(inp_size[0]), transforms.RandomVerticalFlip(), \n",
        "                                transforms.CenterCrop(inp_size[0]), transforms.ToTensor(), normalize])\n",
        "  data = datasets.ImageFolder(root=path, transform=transform)\n",
        "  test_split = round((1-train_split-val_split), 2)\n",
        "  data_length = len(data)\n",
        "\n",
        "  print(data_length, int(train_split*data_length),int(val_split*data_length), int(test_split*data_length))\n",
        "\n",
        "  train_size = int(train_split*data_length)\n",
        "  val_size = int(val_split*data_length)\n",
        "  test_size = data_length - val_size - train_size\n",
        "\n",
        "# The no. of images in each split of train, val and test\n",
        "  train_data, val_data, test_data = td.random_split(data, [train_size, val_size, \n",
        "                                                    test_size])\n",
        "\n",
        "  # Create the data loaders\n",
        "  train_loader = td.DataLoader(train_data,  batch_size=batch_size, \n",
        "                               shuffle=True, drop_last=False, pin_memory=True, num_workers=2)\n",
        "  val_loader = td.DataLoader(val_data,  batch_size=batch_size, \n",
        "                             shuffle=True, drop_last=False, pin_memory=True, num_workers=2)\n",
        "  test_loader = td.DataLoader(test_data, batch_size=batch_size, \n",
        "                              shuffle=True, drop_last=False, pin_memory=True, num_workers=2)\n",
        "  \n",
        "  return train_loader, val_loader, test_loader"
      ],
      "metadata": {
        "id": "TJsFdK-ASkUa"
      },
      "execution_count": null,
      "outputs": []
    },
    {
      "cell_type": "code",
      "source": [
        "def train_model(model, train_loader, val_loader, optimizer, lossFunc, epochs=15):\n",
        "    start = time.time()\n",
        "\n",
        "    device = torch.device(\"cuda:0\" if torch.cuda.is_available() else \"cpu\")\n",
        "    print(\"Device: {}\".format(device))\n",
        "\n",
        "    best_model_weights = model.state_dict()\n",
        "    best_accuracy = 0\n",
        "\n",
        "    train_accuracy_list = []\n",
        "    val_accuracy_list = []\n",
        "\n",
        "    for epoch in range(1,epochs+1):\n",
        "\n",
        "      for i, train_batch in enumerate(train_loader):\n",
        "        images, labels, model = train_batch[0].to(device), train_batch[1].to(device), model.to(device)\n",
        "\n",
        "        outputs = model(images)\n",
        "        loss = lossFunc(outputs, labels)\n",
        "\n",
        "        optimizer.zero_grad()\n",
        "        loss.backward()\n",
        "        optimizer.step()\n",
        "\n",
        "        total = labels.size(0)\n",
        "        _, predicted = torch.max(outputs.data, 1)\n",
        "        correct = (predicted == labels).sum().item()\n",
        "\n",
        "        for j, val_batch in enumerate(val_loader):\n",
        "          images_, labels_ = val_batch[0].to(device), val_batch[1].to(device)\n",
        "          outputs_ = model(images_)\n",
        "          loss_ = lossFunc(outputs_, labels_)\n",
        "          total_ = labels_.size(0)\n",
        "          _,predicted_ = torch.max(outputs_.data, 1)\n",
        "          correct_ = (predicted_ == labels_).sum().item()\n",
        "\n",
        "        train_loss = loss.item()\n",
        "        train_accuracy = (correct / total) * 100\n",
        "        train_accuracy_list.append(train_accuracy)\n",
        "        val_loss = loss_.item()\n",
        "        val_accuracy = (correct_ / total_) * 100\n",
        "        val_accuracy_list.append(val_accuracy)\n",
        "\n",
        "        if val_accuracy > best_accuracy:\n",
        "          best_accuracy = val_accuracy\n",
        "          best_model_weights = model.state_dict()\n",
        "\n",
        "        print(\"Epoch [{}/{}], Train_Loss: {:.4f}, Train_Accuracy: {:.2f}%  Val_Loss: {:.4f}, Val_Accuracy: {:.2f}%\"\n",
        "                .format(epoch, epochs, train_loss, train_accuracy, val_loss, val_accuracy))\n",
        "      # checkpoint_resNet = {\n",
        "      # \"model\": resNet,\n",
        "      # \"train_accuracy_list\": train_accuracy_list,\n",
        "      # \"val_accuracy_list\": val_accuracy_list,\n",
        "      # \"state_dict\": resNet.state_dict()\n",
        "      # }\n",
        "\n",
        "      # torch.save(checkpoint_resNet, \"/content/drive/MyDrive/Colab Notebooks/AI_lab/AI Final Project/resNet50.pth\")\n",
        "    end = time.time()    \n",
        "    print(\"######## Training Finished in {} seconds ###########\".format(end-start))\n",
        "    model.load_state_dict(best_model_weights)\n",
        "    return model, best_model_weights, train_accuracy_list, val_accuracy_list\n",
        "    "
      ],
      "metadata": {
        "id": "pwJx8h4PSSwR"
      },
      "execution_count": null,
      "outputs": []
    },
    {
      "cell_type": "code",
      "source": [
        "def evaluate_accuracy(model, test_loader):\n",
        "  # total, (correct / total) * 100\n",
        "  model.eval() \n",
        "  device = torch.device('cuda' if torch.cuda.is_available() else 'cpu')\n",
        "  model2 = model.to(device)\n",
        "  with torch.no_grad(): \n",
        "      correct = 0\n",
        "      total = 0\n",
        "      for data in test_loader:\n",
        "          images, labels = data[0].to(device), data[1].to(device)\n",
        "          outputs = model2(images)\n",
        "          _, predicted = torch.max(outputs.data, 1)\n",
        "          total += labels.size(0)\n",
        "          correct += (predicted == labels).sum().item()\n",
        "      print('Test Accuracy of the model on the {} test images: {} %'\n",
        "          .format(total, (correct / total) * 100))\n",
        "      \n",
        "  return "
      ],
      "metadata": {
        "id": "d6Se6DoW9sLU"
      },
      "execution_count": null,
      "outputs": []
    },
    {
      "cell_type": "markdown",
      "source": [
        "# Evaluation Metrics"
      ],
      "metadata": {
        "id": "qQTcV5OK851P"
      }
    },
    {
      "cell_type": "markdown",
      "source": [
        "## Dataset-1"
      ],
      "metadata": {
        "id": "_0PNEhXX89pW"
      }
    },
    {
      "cell_type": "markdown",
      "source": [
        "### ResNet50"
      ],
      "metadata": {
        "id": "LYdGpzRE9Cls"
      }
    },
    {
      "cell_type": "code",
      "source": [
        "path=\"/content/drive/MyDrive/AI Final Project/23Class\"\n",
        "train_loader, val_loader, test_loader = image_preprocess(path, 0.7, 0.1, 32, (224,224))"
      ],
      "metadata": {
        "id": "pxJTIwQJ8mip"
      },
      "execution_count": null,
      "outputs": []
    },
    {
      "cell_type": "code",
      "source": [
        "def load_checkpoint(filepath):\n",
        "    checkpoint = torch.load(filepath)\n",
        "    return checkpoint\n",
        "resNet = load_checkpoint(\"/content/drive/MyDrive/AI Final Project/resNet_tl_23.pth\")"
      ],
      "metadata": {
        "id": "SoMmMHr7-uhA"
      },
      "execution_count": null,
      "outputs": []
    },
    {
      "cell_type": "code",
      "source": [
        "resNet.keys()"
      ],
      "metadata": {
        "id": "jpZBe2m5Y4RL"
      },
      "execution_count": null,
      "outputs": []
    },
    {
      "cell_type": "code",
      "source": [
        "train_accuracy = sum(resNet['training_accuracy_list']) / len(resNet['training_accuracy_list'])\n",
        "train_accuracy"
      ],
      "metadata": {
        "id": "8rvjN5DYZg5o"
      },
      "execution_count": null,
      "outputs": []
    },
    {
      "cell_type": "code",
      "source": [
        "val_accuracy = sum(resNet['val_accuracy_list']) / len(resNet['val_accuracy_list'])\n",
        "val_accuracy"
      ],
      "metadata": {
        "id": "m_CbuCAWaAxh"
      },
      "execution_count": null,
      "outputs": []
    },
    {
      "cell_type": "code",
      "source": [
        "model = resnet50()\n",
        "num_ftrs = model.fc.in_features\n",
        "path = \"/content/drive/MyDrive/AI Final Project/23Class\"\n",
        "classes = os.listdir(path+\"/\")\n",
        "model.fc = torch.nn.Linear(num_ftrs, len(classes))\n",
        "model.load_state_dict(resNet['state_dict'])\n",
        "optimizer = torch.optim.Adam(params=model.parameters())\n",
        "loss = torch.nn.CrossEntropyLoss()\n",
        "\n"
      ],
      "metadata": {
        "id": "3v7Mej0H8mfG"
      },
      "execution_count": null,
      "outputs": []
    },
    {
      "cell_type": "code",
      "source": [
        "evaluate_accuracy(model, test_loader)"
      ],
      "metadata": {
        "id": "HW7DY6sr8mVj"
      },
      "execution_count": null,
      "outputs": []
    },
    {
      "cell_type": "code",
      "source": [
        "import numpy as np"
      ],
      "metadata": {
        "id": "sTLBHyrNFtJ2"
      },
      "execution_count": null,
      "outputs": []
    },
    {
      "cell_type": "code",
      "source": [
        "def visualization(model, test_loader, path):\n",
        "    \n",
        "    y_true = []\n",
        "    y_pred = []\n",
        "    device = torch.device(\"cuda:0\" if torch.cuda.is_available() else \"cpu\")\n",
        "    model = model.to(device)\n",
        "    for data in test_loader:\n",
        "      images,labels=data[0].to(device),data[1]\n",
        "      y_true.extend(labels.numpy())\n",
        "      outputs=model(images)\n",
        "      _, predicted = torch.max(outputs, 1)\n",
        "      y_pred.extend(predicted.cpu().numpy())\n",
        "\n",
        "    cf_matrix = confusion_matrix(y_true, y_pred)\n",
        "    class_names = []\n",
        "    for class_name in os.listdir(path):\n",
        "        class_names.append(class_name)\n",
        "    print(classification_report(y_true, y_pred, target_names=tuple(class_names)))  \n",
        "    \n",
        "    # Create pandas dataframe\n",
        "    dataframe = pd.DataFrame(cf_matrix, index=class_names, columns=class_names)\n",
        "\n",
        "    plt.figure(figsize=(8, 6))\n",
        "    \n",
        "    # Create heatmap\n",
        "    sns.heatmap(dataframe, annot=True, cbar=None,cmap=\"YlGnBu\",fmt=\"d\")\n",
        "    \n",
        "    plt.title(\"Confusion Matrix\"), plt.tight_layout()\n",
        "    \n",
        "    plt.ylabel(\"True Class\"), \n",
        "    plt.xlabel(\"Predicted Class\")\n",
        "    plt.show()"
      ],
      "metadata": {
        "id": "vosK-bLk_GAh"
      },
      "execution_count": null,
      "outputs": []
    },
    {
      "cell_type": "code",
      "source": [
        "import torch\n",
        "torch.cuda.empty_cache()"
      ],
      "metadata": {
        "id": "xqFlyAb8HGlr"
      },
      "execution_count": null,
      "outputs": []
    },
    {
      "cell_type": "code",
      "source": [
        "visualization(model, test_loader, \"/content/drive/MyDrive/AI Final Project/23Class\")"
      ],
      "metadata": {
        "id": "sGXcfcsS_F9V"
      },
      "execution_count": null,
      "outputs": []
    },
    {
      "cell_type": "markdown",
      "source": [
        "### DenseNet"
      ],
      "metadata": {
        "id": "Uv6zhDsBEIdX"
      }
    },
    {
      "cell_type": "code",
      "source": [
        "def load_checkpoint(filepath):\n",
        "    checkpoint = torch.load(filepath)\n",
        "    return checkpoint\n",
        "denseNet = load_checkpoint(\"/content/drive/MyDrive/AI Final Project/denseNet_23.pth\")"
      ],
      "metadata": {
        "id": "vw_n0fAm_F6n"
      },
      "execution_count": null,
      "outputs": []
    },
    {
      "cell_type": "code",
      "source": [
        "train_accuracy = sum(denseNet['train_accuracy_list']) / len(denseNet['train_accuracy_list'])\n",
        "train_accuracy"
      ],
      "metadata": {
        "id": "nCjGB9DJaMCT"
      },
      "execution_count": null,
      "outputs": []
    },
    {
      "cell_type": "code",
      "source": [
        "val_accuracy = sum(denseNet['val_accuracy_list']) / len(denseNet['val_accuracy_list'])\n",
        "val_accuracy"
      ],
      "metadata": {
        "id": "AFqqR1q-abwJ"
      },
      "execution_count": null,
      "outputs": []
    },
    {
      "cell_type": "code",
      "source": [
        "Dense_net = torchvision.models.densenet121()\n",
        "num_filters = Dense_net.classifier.in_features\n",
        "Dense_net.classifier = torch.nn.Linear(num_filters, 23)\n",
        "Dense_net.load_state_dict(denseNet['state_dict'])\n",
        "\n",
        "optimizer = torch.optim.Adam(params=Dense_net.parameters())\n",
        "loss = torch.nn.CrossEntropyLoss()"
      ],
      "metadata": {
        "id": "5JOMWKKET01y"
      },
      "execution_count": null,
      "outputs": []
    },
    {
      "cell_type": "code",
      "source": [
        "evaluate_accuracy(Dense_net, test_loader)"
      ],
      "metadata": {
        "id": "ecagNyGdT0zX"
      },
      "execution_count": null,
      "outputs": []
    },
    {
      "cell_type": "code",
      "source": [
        "visualization(Dense_net, test_loader, \"/content/drive/MyDrive/AI Final Project/23Class\")"
      ],
      "metadata": {
        "id": "NalI429cT0vB"
      },
      "execution_count": null,
      "outputs": []
    },
    {
      "cell_type": "markdown",
      "source": [
        "### VGG"
      ],
      "metadata": {
        "id": "T99dbja-VEjc"
      }
    },
    {
      "cell_type": "code",
      "source": [
        "def load_checkpoint(filepath):\n",
        "    checkpoint = torch.load(filepath)\n",
        "    return checkpoint\n",
        "vgg = load_checkpoint(\"/content/drive/MyDrive/AI Final Project/vgg_23.pth\")"
      ],
      "metadata": {
        "id": "TiiiOM4fT0oS"
      },
      "execution_count": null,
      "outputs": []
    },
    {
      "cell_type": "code",
      "source": [
        "train_accuracy = sum(vgg['training_accuracy_list']) / len(vgg['training_accuracy_list'])\n",
        "train_accuracy"
      ],
      "metadata": {
        "id": "T2vUtKYrajZA"
      },
      "execution_count": null,
      "outputs": []
    },
    {
      "cell_type": "code",
      "source": [
        "val_accuracy = sum(vgg['val_accuracy_list']) / len(vgg['val_accuracy_list'])\n",
        "val_accuracy"
      ],
      "metadata": {
        "id": "nQFz_WZHajL7"
      },
      "execution_count": null,
      "outputs": []
    },
    {
      "cell_type": "code",
      "source": [
        "model = torchvision.models.vgg16()\n",
        "num_features =model.classifier[6].in_features\n",
        "features = list(model.classifier.children())[:-1] \n",
        "features.extend([nn.Linear(num_features, 23)]) \n",
        "model.classifier = nn.Sequential(*features)\n",
        "model.load_state_dict(vgg['state_dict'])\n",
        "optimizer = torch.optim.SGD(params=model.parameters(),lr=0.001)\n",
        "loss = torch.nn.CrossEntropyLoss()"
      ],
      "metadata": {
        "id": "r1PhFDFRT0mJ"
      },
      "execution_count": null,
      "outputs": []
    },
    {
      "cell_type": "code",
      "source": [
        "evaluate_accuracy(model, test_loader)"
      ],
      "metadata": {
        "id": "1swAVrIpT0j1"
      },
      "execution_count": null,
      "outputs": []
    },
    {
      "cell_type": "code",
      "source": [
        "visualization(model, test_loader, \"/content/drive/MyDrive/AI Final Project/23Class\")"
      ],
      "metadata": {
        "id": "Ow6LHXj5T0g-"
      },
      "execution_count": null,
      "outputs": []
    },
    {
      "cell_type": "markdown",
      "source": [
        "### Dataset-2"
      ],
      "metadata": {
        "id": "U5wun6dE_Hdq"
      }
    },
    {
      "cell_type": "code",
      "source": [
        "path=\"/content/drive/MyDrive/AI Final Project/eightClass\"\n",
        "train_loader, val_loader, test_loader = image_preprocess(path, 0.7, 0.1, 32, (224,224))"
      ],
      "metadata": {
        "colab": {
          "base_uri": "https://localhost:8080/"
        },
        "id": "7JEL5rRSbMj7",
        "outputId": "1859b5bb-22bb-46da-e6d4-488ff834d970"
      },
      "execution_count": null,
      "outputs": [
        {
          "output_type": "stream",
          "name": "stdout",
          "text": [
            "4000 2800 400 800\n"
          ]
        }
      ]
    },
    {
      "cell_type": "markdown",
      "source": [
        "### ResNet"
      ],
      "metadata": {
        "id": "3aqJ_K6hVP6K"
      }
    },
    {
      "cell_type": "code",
      "source": [
        "def load_checkpoint(filepath):\n",
        "    checkpoint = torch.load(filepath)\n",
        "    return checkpoint\n",
        "resNet = load_checkpoint(\"/content/drive/MyDrive/AI Final Project/resNet50.pth\")"
      ],
      "metadata": {
        "id": "Cs7B5GXp_F4G"
      },
      "execution_count": null,
      "outputs": []
    },
    {
      "cell_type": "code",
      "source": [
        "train_accuracy = sum(resNet['train_accuracy_list']) / len(resNet['train_accuracy_list'])\n",
        "train_accuracy"
      ],
      "metadata": {
        "colab": {
          "base_uri": "https://localhost:8080/"
        },
        "id": "1w93-1JGuEav",
        "outputId": "d19bbb80-8a40-4f5e-e585-3c408fa23c5e"
      },
      "execution_count": null,
      "outputs": [
        {
          "output_type": "execute_result",
          "data": {
            "text/plain": [
              "68.10546875"
            ]
          },
          "metadata": {},
          "execution_count": 45
        }
      ]
    },
    {
      "cell_type": "code",
      "source": [
        "val_accuracy = sum(resNet['val_accuracy_list']) / len(resNet['val_accuracy_list'])\n",
        "val_accuracy"
      ],
      "metadata": {
        "colab": {
          "base_uri": "https://localhost:8080/"
        },
        "id": "5FQ9aTuZuFKl",
        "outputId": "e0b52114-fe05-4e01-d770-dae4eb9267dc"
      },
      "execution_count": null,
      "outputs": [
        {
          "output_type": "execute_result",
          "data": {
            "text/plain": [
              "62.80539772727273"
            ]
          },
          "metadata": {},
          "execution_count": 46
        }
      ]
    },
    {
      "cell_type": "code",
      "source": [
        "model = resnet50()\n",
        "num_ftrs = model.fc.in_features\n",
        "path = \"/content/drive/MyDrive/AI Final Project/eightClass\"\n",
        "classes = os.listdir(path+\"/\")\n",
        "model.fc = torch.nn.Linear(num_ftrs, len(classes))\n",
        "model.load_state_dict(resNet['state_dict'])\n",
        "optimizer = torch.optim.Adam(params=model.parameters())\n",
        "loss = torch.nn.CrossEntropyLoss()"
      ],
      "metadata": {
        "id": "BV74rgBa_F1q"
      },
      "execution_count": null,
      "outputs": []
    },
    {
      "cell_type": "code",
      "source": [
        "evaluate_accuracy(model, val_loader)"
      ],
      "metadata": {
        "id": "9K0VH63R_Fze"
      },
      "execution_count": null,
      "outputs": []
    },
    {
      "cell_type": "code",
      "source": [
        "visualization(model, val_loader, \"/content/drive/MyDrive/AI Final Project/eightClass\")"
      ],
      "metadata": {
        "id": "d0ljuZFW_Fwt"
      },
      "execution_count": null,
      "outputs": []
    },
    {
      "cell_type": "markdown",
      "source": [
        "### DenseNet"
      ],
      "metadata": {
        "id": "BOcoyCKCWURA"
      }
    },
    {
      "cell_type": "code",
      "source": [
        "def load_checkpoint(filepath):\n",
        "    checkpoint = torch.load(filepath)\n",
        "    return checkpoint\n",
        "denseNet = load_checkpoint(\"/content/drive/MyDrive/AI Final Project/checkpoint_denseNet.pth\")"
      ],
      "metadata": {
        "id": "EuBWgSaU_Fuh"
      },
      "execution_count": null,
      "outputs": []
    },
    {
      "cell_type": "code",
      "source": [
        "train_accuracy = sum(denseNet['training_accuracy_list']) / len(denseNet['training_accuracy_list'])\n",
        "train_accuracy"
      ],
      "metadata": {
        "id": "Xx7HPD43zDoE"
      },
      "execution_count": null,
      "outputs": []
    },
    {
      "cell_type": "code",
      "source": [
        "val_accuracy = sum(denseNet['val_accuracy_list']) / len(denseNet['val_accuracy_list'])\n",
        "val_accuracy"
      ],
      "metadata": {
        "id": "6GV5nYkizJtV"
      },
      "execution_count": null,
      "outputs": []
    },
    {
      "cell_type": "code",
      "source": [
        "Dense_net = torchvision.models.densenet121()\n",
        "num_filters = Dense_net.classifier.in_features\n",
        "Dense_net.classifier = torch.nn.Linear(num_filters, 8)\n",
        "Dense_net.load_state_dict(denseNet['state_dict'])\n",
        "\n",
        "optimizer = torch.optim.Adam(params=Dense_net.parameters())\n",
        "loss = torch.nn.CrossEntropyLoss()"
      ],
      "metadata": {
        "id": "J4-as4uO_FsP"
      },
      "execution_count": null,
      "outputs": []
    },
    {
      "cell_type": "code",
      "source": [
        "evaluate_accuracy(Dense_net, test_loader)"
      ],
      "metadata": {
        "id": "4P3VH-tU_FqK"
      },
      "execution_count": null,
      "outputs": []
    },
    {
      "cell_type": "code",
      "source": [
        "visualization(Dense_net, test_loader, \"/content/drive/MyDrive/AI Final Project/eightClass\")"
      ],
      "metadata": {
        "id": "3j5Xjzr2_Fn0"
      },
      "execution_count": null,
      "outputs": []
    },
    {
      "cell_type": "code",
      "source": [],
      "metadata": {
        "id": "dGZ2QnWx_FlH"
      },
      "execution_count": null,
      "outputs": []
    },
    {
      "cell_type": "markdown",
      "source": [
        "### VGG"
      ],
      "metadata": {
        "id": "4oadUvpJXMcj"
      }
    },
    {
      "cell_type": "code",
      "source": [
        "import torch\n",
        "torch.cuda.empty_cache()"
      ],
      "metadata": {
        "id": "BLlZk5__rGWh"
      },
      "execution_count": null,
      "outputs": []
    },
    {
      "cell_type": "code",
      "source": [
        "def load_checkpoint(filepath):\n",
        "    checkpoint = torch.load(filepath)\n",
        "    return checkpoint\n",
        "vgg = load_checkpoint(\"/content/drive/MyDrive/AI Final Project/vgg16_eightclass.pth\")"
      ],
      "metadata": {
        "id": "cxOSGH6VXOmC"
      },
      "execution_count": null,
      "outputs": []
    },
    {
      "cell_type": "code",
      "source": [
        "model = torchvision.models.vgg16()\n",
        "num_features =model.classifier[6].in_features\n",
        "features = list(model.classifier.children())[:-1] \n",
        "features.extend([nn.Linear(num_features, 8)]) \n",
        "model.classifier = nn.Sequential(*features)\n",
        "model.load_state_dict(vgg['state_dict'])\n",
        "optimizer = torch.optim.SGD(params=model.parameters(),lr=0.001)\n",
        "loss = torch.nn.CrossEntropyLoss()"
      ],
      "metadata": {
        "id": "r-ysRgRZXOjO"
      },
      "execution_count": null,
      "outputs": []
    },
    {
      "cell_type": "code",
      "source": [
        "evaluate_accuracy(model, test_loader)"
      ],
      "metadata": {
        "id": "ABSGlGjpXOgt"
      },
      "execution_count": null,
      "outputs": []
    },
    {
      "cell_type": "code",
      "source": [
        "visualization(model, test_loader, \"/content/drive/MyDrive/AI Final Project/eightClass\")"
      ],
      "metadata": {
        "id": "rXb4brX6XOeV"
      },
      "execution_count": null,
      "outputs": []
    },
    {
      "cell_type": "markdown",
      "source": [
        "### Dataset-3"
      ],
      "metadata": {
        "id": "dKYmc35g9HiE"
      }
    },
    {
      "cell_type": "code",
      "source": [
        "def image_preprocess(path, train_split, val_split, batch_size, inp_size):\n",
        "  normalize = transforms.Normalize(mean=[0.485, 0.456, 0.406], std=[0.229, 0.224, 0.225])\n",
        "  train_transform=transforms.Compose([transforms.Resize(inp_size), transforms.RandomVerticalFlip(), \n",
        "                                transforms.CenterCrop(inp_size[0]), transforms.ToTensor(), normalize])\n",
        "  val_transform = transforms.Compose([transforms.Resize(inp_size), transforms.ToTensor(), normalize])\n",
        "  train_data = datasets.ImageFolder(root=path+\"/train\", transform=train_transform)\n",
        "  val_data = datasets.ImageFolder(root=path+\"/val\",transform=val_transform)\n",
        "  test_data = datasets.ImageFolder(root=path+\"/test\",transform=val_transform)\n",
        "  print(val_data)\n",
        "  # test_split = round((1-train_split-val_split), 2)\n",
        "  # print(data_length, int(train_split*data_length),int(val_split*data_length), int(test_split*data_length))\n",
        "\n",
        "  data_length = len(val_data)\n",
        "  # The no. of images in each split of train, val and test\n",
        "  train_size = int(0.3*data_length)\n",
        "  val_size = int(0.6*data_length)\n",
        "  test_size = data_length - val_size - train_size\n",
        "  val_data, _, _ = td.random_split(val_data, [train_size, val_size, \n",
        "                                                    test_size])\n",
        "  \n",
        "  print(len(val_data))\n",
        "  # Create the data loaders\n",
        "  train_loader = td.DataLoader(train_data,  batch_size=batch_size, \n",
        "                               shuffle=True, drop_last=False, pin_memory=True, num_workers=2)\n",
        "  val_loader = td.DataLoader(val_data,  batch_size=batch_size, \n",
        "                             shuffle=True, drop_last=False, pin_memory=True, num_workers=2)\n",
        "  test_loader = td.DataLoader(test_data, batch_size=batch_size, \n",
        "                              shuffle=True, drop_last=False, pin_memory=True, num_workers=2)\n",
        "  \n",
        "  return train_loader, val_loader, test_loader"
      ],
      "metadata": {
        "id": "mc24Vn1Dy8tr"
      },
      "execution_count": null,
      "outputs": []
    },
    {
      "cell_type": "code",
      "source": [
        "path=\"/content/drive/MyDrive/AI Final Project/fourClass\"\n",
        "train_loader, val_loader, test_loader = image_preprocess(path, 0.7, 0.1, 32, (224,224))"
      ],
      "metadata": {
        "id": "rNBWOqj__D-m"
      },
      "execution_count": null,
      "outputs": []
    },
    {
      "cell_type": "markdown",
      "source": [
        "ResNet"
      ],
      "metadata": {
        "id": "DbO8ykvKHovy"
      }
    },
    {
      "cell_type": "code",
      "source": [
        "def load_checkpoint(filepath):\n",
        "    checkpoint = torch.load(filepath)\n",
        "    return checkpoint\n",
        "resNet = load_checkpoint(\"/content/drive/MyDrive/AI Final Project/resNet_fourclass.pth\")"
      ],
      "metadata": {
        "id": "M9oqm0_6_D8a"
      },
      "execution_count": null,
      "outputs": []
    },
    {
      "cell_type": "code",
      "source": [
        "resNet['model']"
      ],
      "metadata": {
        "id": "XLQOxo3RO-Mg"
      },
      "execution_count": null,
      "outputs": []
    },
    {
      "cell_type": "code",
      "source": [
        "model = resnet50()\n",
        "num_ftrs = model.fc.in_features\n",
        "path = \"/content/drive/MyDrive/AI Final Project/fourClass\"\n",
        "classes = os.listdir(path+\"/train\")\n",
        "model.fc = torch.nn.Linear(num_ftrs, len(classes))\n",
        "model.load_state_dict(resNet['state_dict'])\n",
        "optimizer = torch.optim.Adam(params=model.parameters())\n",
        "loss = torch.nn.CrossEntropyLoss()"
      ],
      "metadata": {
        "id": "1j7DQji8_D6N"
      },
      "execution_count": null,
      "outputs": []
    },
    {
      "cell_type": "code",
      "source": [
        "evaluate_accuracy(model, test_loader)"
      ],
      "metadata": {
        "id": "8qSQrWXN_D39"
      },
      "execution_count": null,
      "outputs": []
    },
    {
      "cell_type": "code",
      "source": [
        "visualization(model, test_loader, \"/content/drive/MyDrive/AI Final Project/fourClass\")"
      ],
      "metadata": {
        "id": "xrTQXasl_D1p"
      },
      "execution_count": null,
      "outputs": []
    },
    {
      "cell_type": "code",
      "source": [],
      "metadata": {
        "id": "gOAsoPYJ_DzJ"
      },
      "execution_count": null,
      "outputs": []
    },
    {
      "cell_type": "markdown",
      "source": [
        "### DenseNet"
      ],
      "metadata": {
        "id": "OsSZGgqS_7Sb"
      }
    },
    {
      "cell_type": "code",
      "source": [
        "def load_checkpoint(filepath):\n",
        "    checkpoint = torch.load(filepath)\n",
        "    return checkpoint\n",
        "resNet = load_checkpoint(\"/content/drive/MyDrive/AI Final Project/dense_net_4.pth\")"
      ],
      "metadata": {
        "id": "2s2F8GXf_6zR"
      },
      "execution_count": null,
      "outputs": []
    },
    {
      "cell_type": "code",
      "source": [
        "Dense_net = torchvision.models.densenet121()\n",
        "num_filters = Dense_net.classifier.in_features\n",
        "Dense_net.classifier = torch.nn.Linear(num_filters, 4)\n",
        "Dense_net.load_state_dict(denseNet['state_dict'])\n",
        "\n",
        "optimizer = torch.optim.Adam(params=Dense_net.parameters())\n",
        "loss = torch.nn.CrossEntropyLoss()"
      ],
      "metadata": {
        "id": "auQfKk2p_6wa"
      },
      "execution_count": null,
      "outputs": []
    },
    {
      "cell_type": "code",
      "source": [
        "evaluate_accuracy(model, test_loader)"
      ],
      "metadata": {
        "id": "z9yElV84_6rS"
      },
      "execution_count": null,
      "outputs": []
    },
    {
      "cell_type": "code",
      "source": [
        "visualization(model, test_loader, \"/content/drive/MyDrive/AI Final Project/fourClass\")"
      ],
      "metadata": {
        "id": "F73qmaAa_6op"
      },
      "execution_count": null,
      "outputs": []
    },
    {
      "cell_type": "markdown",
      "source": [
        "### VGG16"
      ],
      "metadata": {
        "id": "Si9_Z7kYAQyQ"
      }
    },
    {
      "cell_type": "code",
      "source": [
        "def load_checkpoint(filepath):\n",
        "    checkpoint = torch.load(filepath)\n",
        "    return checkpoint\n",
        "resNet = load_checkpoint(\"/content/drive/MyDrive/AI Final Project/vgg16_4.pth\")"
      ],
      "metadata": {
        "id": "if7RETvv_6l4"
      },
      "execution_count": null,
      "outputs": []
    },
    {
      "cell_type": "code",
      "source": [
        "model = torchvision.models.vgg16()\n",
        "num_features =model.classifier[6].in_features\n",
        "features = list(model.classifier.children())[:-1] \n",
        "features.extend([nn.Linear(num_features, 8)]) \n",
        "model.classifier = nn.Sequential(*features)\n",
        "model.load_state_dict(vgg['state_dict'])\n",
        "optimizer = torch.optim.SGD(params=model.parameters(),lr=0.001)\n",
        "loss = torch.nn.CrossEntropyLoss()"
      ],
      "metadata": {
        "id": "ZuD_5432_6jF"
      },
      "execution_count": null,
      "outputs": []
    },
    {
      "cell_type": "code",
      "source": [
        "evaluate_accuracy(model, test_loader)"
      ],
      "metadata": {
        "id": "sXn3w1QzAb67"
      },
      "execution_count": null,
      "outputs": []
    },
    {
      "cell_type": "code",
      "source": [
        "visualization(model, test_loader, \"/content/drive/MyDrive/AI Final Project/fourClass\")"
      ],
      "metadata": {
        "id": "DOinByFdAb30"
      },
      "execution_count": null,
      "outputs": []
    },
    {
      "cell_type": "markdown",
      "source": [
        "# Dataset-3"
      ],
      "metadata": {
        "id": "3zRUOxjGYKvp"
      }
    },
    {
      "cell_type": "code",
      "source": [
        "def load_checkpoint(filepath):\n",
        "    checkpoint = torch.load(filepath)\n",
        "    return checkpoint\n",
        "resNet = load_checkpoint(\"/content/drive/MyDrive/AI Final Project/resNet_fourclass.pth\")"
      ],
      "metadata": {
        "id": "3hibL7k8UrU8"
      },
      "execution_count": null,
      "outputs": []
    },
    {
      "cell_type": "code",
      "source": [
        "resNet.keys()"
      ],
      "metadata": {
        "id": "LSg_XdRBZC3n"
      },
      "execution_count": null,
      "outputs": []
    },
    {
      "cell_type": "code",
      "source": [
        "def load_checkpoint(filepath):\n",
        "    checkpoint = torch.load(filepath)\n",
        "    return checkpoint\n",
        "denseNet = load_checkpoint(\"/content/drive/MyDrive/AI Final Project/dense_net_4.pth\")"
      ],
      "metadata": {
        "id": "bQ2ENGTCYIK7"
      },
      "execution_count": null,
      "outputs": []
    },
    {
      "cell_type": "code",
      "source": [
        "denseNet.keys()"
      ],
      "metadata": {
        "id": "S0IZohqiZUZR"
      },
      "execution_count": null,
      "outputs": []
    },
    {
      "cell_type": "code",
      "source": [
        "def load_checkpoint(filepath):\n",
        "    checkpoint = torch.load(filepath)\n",
        "    return checkpoint\n",
        "vgg = load_checkpoint(\"/content/drive/MyDrive/AI Final Project/vgg16_fourclass.pth\")"
      ],
      "metadata": {
        "id": "dxaSCovsYZB_"
      },
      "execution_count": null,
      "outputs": []
    },
    {
      "cell_type": "code",
      "source": [
        "vgg.keys()"
      ],
      "metadata": {
        "id": "Dd0yJ-dgZVYf"
      },
      "execution_count": null,
      "outputs": []
    },
    {
      "cell_type": "code",
      "source": [
        "resNet_train, resNet_val = resNet['training_accuracy_list'], resNet['val_accuracy_list']"
      ],
      "metadata": {
        "id": "3wVdC_jSYqC2"
      },
      "execution_count": null,
      "outputs": []
    },
    {
      "cell_type": "code",
      "source": [
        "denseNet_train, denseNet_val = denseNet['training_accuracy_list'], denseNet['val_accuracy_list']"
      ],
      "metadata": {
        "id": "aknKLP-7ZNcp"
      },
      "execution_count": null,
      "outputs": []
    },
    {
      "cell_type": "code",
      "source": [
        "vgg_train, vgg_val = vgg['training_accuracy_list'], vgg['val_accuracy_list']"
      ],
      "metadata": {
        "id": "mbx0FDjTZNZP"
      },
      "execution_count": null,
      "outputs": []
    },
    {
      "cell_type": "code",
      "source": [
        "def accuracyForEachEpoch(accuracy_list):\n",
        "    accuracy = []\n",
        "    sum = 0\n",
        "    for i, v in enumerate(accuracy_list):\n",
        "\n",
        "        if((i+1)%100==0):\n",
        "            accuracy.append(sum/100)\n",
        "            sum = 0\n",
        "        else: \n",
        "            sum += v\n",
        "\n",
        "    return accuracy"
      ],
      "metadata": {
        "id": "mXs33-znYlD1"
      },
      "execution_count": null,
      "outputs": []
    },
    {
      "cell_type": "code",
      "source": [
        "train_accuracy_1, train_accuracy_2, train_accuracy_3 = accuracyForEachEpoch(resNet_train), accuracyForEachEpoch(denseNet_train), accuracyForEachEpoch(vgg_train)"
      ],
      "metadata": {
        "id": "rwt93WInabWZ"
      },
      "execution_count": null,
      "outputs": []
    },
    {
      "cell_type": "code",
      "source": [
        "def train_val_comparison(train_accuracy_list_1, train_accuracy_list_2, train_accuracy_list_3, loader_length):\n",
        "    x = np.linspace(0, 20, num=20)\n",
        "    plt.figure(figsize=(15,5))\n",
        "    plt.plot(x, train_accuracy_list_1, label=\"ResNet50\")\n",
        "    plt.plot(x, train_accuracy_list_2, label=\"DenseNet121\")\n",
        "    plt.plot(x, train_accuracy_list_3, label=\"Vgg16\")\n",
        "    plt.xlabel(\"Epochs\")\n",
        "    plt.ylabel(\"Accuracy\")\n",
        "    plt.title(\"Validation Accuracy\")\n",
        "    plt.legend()"
      ],
      "metadata": {
        "id": "9m1XprcKYdFn"
      },
      "execution_count": null,
      "outputs": []
    },
    {
      "cell_type": "code",
      "source": [
        "train_val_comparison(train_accuracy_1, train_accuracy_2, train_accuracy_3, len(train_loader))"
      ],
      "metadata": {
        "id": "EABxuf6rYjAW"
      },
      "execution_count": null,
      "outputs": []
    },
    {
      "cell_type": "code",
      "source": [
        "val_accuracy_1, val_accuracy_2, val_accuracy_3 = accuracyForEachEpoch(resNet_val), accuracyForEachEpoch(denseNet_val), accuracyForEachEpoch(vgg_val)"
      ],
      "metadata": {
        "id": "m3SNEUK7Yi9r"
      },
      "execution_count": null,
      "outputs": []
    },
    {
      "cell_type": "code",
      "source": [
        "train_val_comparison(val_accuracy_1, val_accuracy_2, val_accuracy_3, len(train_loader))"
      ],
      "metadata": {
        "id": "Qjz619t4Yi7h"
      },
      "execution_count": null,
      "outputs": []
    },
    {
      "cell_type": "code",
      "source": [
        "def subplot(train_accuracy_list_1,train_accuracy_list_2,train_accuracy_list_3,val_accuracy_list_1,val_accuracy_list_2,val_accuracy_list_3):\n",
        "    x = np.linspace(0, 20, num=20)\n",
        "    plt.figure(figsize=(15,5))\n",
        "    plt.subplot(1,3,1)    \n",
        "    plt.plot(x, train_accuracy_list_1, label=\"Train accuracy\")\n",
        "    plt.plot(x, val_accuracy_list_1, label=\"Validation accuracy\")\n",
        "    plt.xlabel(\"Epochs\")\n",
        "    plt.ylabel(\"Accuracy\")\n",
        "    plt.title(\"ResNet50\")\n",
        "    plt.legend()\n",
        "    plt.subplot(1,3,2)    \n",
        "    plt.plot(x, train_accuracy_list_2, label=\"Train accuracy\")\n",
        "    plt.plot(x, val_accuracy_list_2, label=\"Validation accuracy\")\n",
        "    plt.xlabel(\"Epochs\")\n",
        "    plt.ylabel(\"Accuracy\")\n",
        "    plt.title(\"DenseNet121\")\n",
        "    plt.legend()\n",
        "    plt.subplot(1,3,3)    \n",
        "    plt.plot(x, train_accuracy_list_3, label=\"Train accuracy\")\n",
        "    plt.plot(x, val_accuracy_list_3, label=\"Validation accuracy\")\n",
        "    plt.xlabel(\"Epochs\")\n",
        "    plt.ylabel(\"Accuracy\")\n",
        "    plt.title(\"Vgg16\")\n",
        "    plt.suptitle(\"Train vs Validation\")\n",
        "    plt.legend()\n"
      ],
      "metadata": {
        "id": "Of83h36KoW5I"
      },
      "execution_count": null,
      "outputs": []
    },
    {
      "cell_type": "code",
      "source": [
        "subplot(train_accuracy_1,train_accuracy_2,train_accuracy_3,val_accuracy_1,val_accuracy_2,val_accuracy_3)"
      ],
      "metadata": {
        "id": "7ftnTdy8oY9O"
      },
      "execution_count": null,
      "outputs": []
    },
    {
      "cell_type": "markdown",
      "source": [
        "# Dataset-2"
      ],
      "metadata": {
        "id": "jd7HgTcgbTJG"
      }
    },
    {
      "cell_type": "code",
      "source": [
        "def load_checkpoint(filepath):\n",
        "    checkpoint = torch.load(filepath)\n",
        "    return checkpoint\n",
        "resNet = load_checkpoint(\"/content/drive/MyDrive/AI Final Project/resNet50.pth\")"
      ],
      "metadata": {
        "id": "qaRednRdYi47"
      },
      "execution_count": null,
      "outputs": []
    },
    {
      "cell_type": "code",
      "source": [
        "resNet.keys()"
      ],
      "metadata": {
        "colab": {
          "base_uri": "https://localhost:8080/"
        },
        "id": "ypuNdSrRYi2Z",
        "outputId": "5c3ab6b7-6763-4b06-ec82-2299b4b010b7"
      },
      "execution_count": null,
      "outputs": [
        {
          "output_type": "execute_result",
          "data": {
            "text/plain": [
              "dict_keys(['model', 'train_accuracy_list', 'val_accuracy_list', 'state_dict'])"
            ]
          },
          "metadata": {},
          "execution_count": 58
        }
      ]
    },
    {
      "cell_type": "code",
      "source": [
        "def load_checkpoint(filepath):\n",
        "    checkpoint = torch.load(filepath)\n",
        "    return checkpoint\n",
        "denseNet = load_checkpoint(\"/content/drive/MyDrive/AI Final Project/checkpoint_denseNet.pth\")"
      ],
      "metadata": {
        "id": "5_IPV5P8Yizy"
      },
      "execution_count": null,
      "outputs": []
    },
    {
      "cell_type": "code",
      "source": [
        "denseNet.keys()"
      ],
      "metadata": {
        "colab": {
          "base_uri": "https://localhost:8080/"
        },
        "id": "1hZi3PjYbepR",
        "outputId": "d460f188-b4df-4281-b557-5fd69e42f486"
      },
      "execution_count": null,
      "outputs": [
        {
          "output_type": "execute_result",
          "data": {
            "text/plain": [
              "dict_keys(['model', 'training_accuracy_list', 'val_accuracy_list', 'state_dict'])"
            ]
          },
          "metadata": {},
          "execution_count": 60
        }
      ]
    },
    {
      "cell_type": "code",
      "source": [
        "def load_checkpoint(filepath):\n",
        "    checkpoint = torch.load(filepath)\n",
        "    return checkpoint\n",
        "vgg = load_checkpoint(\"/content/drive/MyDrive/AI Final Project/vgg16_eightclass.pth\")"
      ],
      "metadata": {
        "id": "TpbmZImHbely"
      },
      "execution_count": null,
      "outputs": []
    },
    {
      "cell_type": "code",
      "source": [
        "vgg.keys()"
      ],
      "metadata": {
        "colab": {
          "base_uri": "https://localhost:8080/"
        },
        "id": "H-tmIg-TbejV",
        "outputId": "7a10944c-0930-4724-d6d1-d13a490d4664"
      },
      "execution_count": null,
      "outputs": [
        {
          "output_type": "execute_result",
          "data": {
            "text/plain": [
              "dict_keys(['model', 'training_accuracy_list', 'val_accuracy_list', 'state_dict'])"
            ]
          },
          "metadata": {},
          "execution_count": 62
        }
      ]
    },
    {
      "cell_type": "code",
      "source": [
        "resNet_train, resNet_val = resNet['train_accuracy_list'], resNet['val_accuracy_list']"
      ],
      "metadata": {
        "id": "7m9Rod4GcEsH"
      },
      "execution_count": null,
      "outputs": []
    },
    {
      "cell_type": "code",
      "source": [
        "denseNet_train, denseNet_val = denseNet['training_accuracy_list'], denseNet['val_accuracy_list']"
      ],
      "metadata": {
        "id": "W_BTxZHKcEnt"
      },
      "execution_count": null,
      "outputs": []
    },
    {
      "cell_type": "code",
      "source": [
        "vgg_train, vgg_val = vgg['training_accuracy_list'], vgg['val_accuracy_list']"
      ],
      "metadata": {
        "id": "ttsX793DcEg6"
      },
      "execution_count": null,
      "outputs": []
    },
    {
      "cell_type": "code",
      "source": [
        "def accuracyForEachEpoch(accuracy_list):\n",
        "    accuracy = []\n",
        "    sum = 0\n",
        "    for i, v in enumerate(accuracy_list):\n",
        "\n",
        "        if((i+1)%88==0):\n",
        "            accuracy.append(sum/88)\n",
        "            sum = 0\n",
        "        else: \n",
        "            sum += v\n",
        "\n",
        "    return accuracy"
      ],
      "metadata": {
        "id": "C0zEXpcqbeg-"
      },
      "execution_count": null,
      "outputs": []
    },
    {
      "cell_type": "code",
      "source": [
        "def train_val_comparison_individual(train_accuracy_list_1, train_accuracy_list_2, loader_length):\n",
        "    x = np.linspace(0, 20, num=20)\n",
        "    plt.figure(figsize=(15,5))\n",
        "    plt.plot(x, train_accuracy_list_1, label=\"train accuracy\")\n",
        "    plt.plot(x, train_accuracy_list_2, label=\"validation accuracy\")\n",
        "    plt.xlabel(\"Epochs\")\n",
        "    plt.ylabel(\"Accuracy\")\n",
        "    plt.title(\"Train vs Validation\")\n",
        "    plt.legend()"
      ],
      "metadata": {
        "id": "up8ozwc1kCTb"
      },
      "execution_count": null,
      "outputs": []
    },
    {
      "cell_type": "code",
      "source": [
        "train_val_comparison_individual(train_accuracy_1, val_accuracy_1, train_loader)"
      ],
      "metadata": {
        "colab": {
          "base_uri": "https://localhost:8080/",
          "height": 339
        },
        "id": "j0b0eXOXkWEO",
        "outputId": "052f8622-4689-4ee1-b0fd-83340164d3b0"
      },
      "execution_count": null,
      "outputs": [
        {
          "output_type": "display_data",
          "data": {
            "text/plain": [
              "<Figure size 1080x360 with 1 Axes>"
            ],
            "image/png": "[encoded data removed]"
          },
          "metadata": {
            "needs_background": "light"
          }
        }
      ]
    },
    {
      "cell_type": "code",
      "source": [],
      "metadata": {
        "id": "QNDHfwHblzTo"
      },
      "execution_count": null,
      "outputs": []
    },
    {
      "cell_type": "code",
      "source": [
        "train_accuracy_1, train_accuracy_2, train_accuracy_3 = accuracyForEachEpoch(resNet_train), accuracyForEachEpoch(denseNet_train), accuracyForEachEpoch(vgg_train)"
      ],
      "metadata": {
        "id": "b44GuS5acB_v"
      },
      "execution_count": null,
      "outputs": []
    },
    {
      "cell_type": "code",
      "source": [
        "def train_val_comparison(train_accuracy_list_1, train_accuracy_list_2, train_accuracy_list_3, loader_length):\n",
        "    x = np.linspace(0, 20, num=20)\n",
        "    plt.figure(figsize=(15,5))\n",
        "    plt.plot(x, train_accuracy_list_1, label=\"ResNet50\")\n",
        "    plt.plot(x, train_accuracy_list_2, label=\"DenseNet121\")\n",
        "    plt.plot(x, train_accuracy_list_3, label=\"Vgg16\")\n",
        "    plt.xlabel(\"Epochs\")\n",
        "    plt.ylabel(\"Accuracy\")\n",
        "    plt.title(\"Train Accuracy\")\n",
        "    plt.legend()"
      ],
      "metadata": {
        "id": "cYmK1MIGctcA"
      },
      "execution_count": null,
      "outputs": []
    },
    {
      "cell_type": "code",
      "source": [
        "train_val_comparison(train_accuracy_1, train_accuracy_2, train_accuracy_3, len(train_loader))"
      ],
      "metadata": {
        "colab": {
          "base_uri": "https://localhost:8080/",
          "height": 339
        },
        "id": "8yNM2QDdczxd",
        "outputId": "75fae3d5-8637-4131-a505-f2069bc383ef"
      },
      "execution_count": null,
      "outputs": [
        {
          "output_type": "display_data",
          "data": {
            "text/plain": [
              "<Figure size 1080x360 with 1 Axes>"
            ],
            "image/png": "[encoded data removed]"
          },
          "metadata": {
            "needs_background": "light"
          }
        }
      ]
    },
    {
      "cell_type": "code",
      "source": [
        "val_accuracy_1, val_accuracy_2, val_accuracy_3 = accuracyForEachEpoch(resNet_val), accuracyForEachEpoch(denseNet_val), accuracyForEachEpoch(vgg_val)"
      ],
      "metadata": {
        "id": "M4JKDdWBc4Us"
      },
      "execution_count": null,
      "outputs": []
    },
    {
      "cell_type": "code",
      "source": [
        "train_val_comparison(val_accuracy_1, val_accuracy_2, val_accuracy_3, len(train_loader))"
      ],
      "metadata": {
        "colab": {
          "base_uri": "https://localhost:8080/",
          "height": 339
        },
        "id": "00eyGX6Yc4Re",
        "outputId": "654c6f5d-62d9-4ac4-bfe7-5966238780d7"
      },
      "execution_count": null,
      "outputs": [
        {
          "output_type": "display_data",
          "data": {
            "text/plain": [
              "<Figure size 1080x360 with 1 Axes>"
            ],
            "image/png": "[encoded data removed]"
          },
          "metadata": {
            "needs_background": "light"
          }
        }
      ]
    },
    {
      "cell_type": "code",
      "source": [
        "def subplot(train_accuracy_list_1,train_accuracy_list_2,train_accuracy_list_3,val_accuracy_list_1,val_accuracy_list_2,val_accuracy_list_3):\n",
        "    x = np.linspace(0, 20, num=20)\n",
        "    plt.figure(figsize=(15,5))\n",
        "    plt.subplot(1,3,1)    \n",
        "    plt.plot(x, train_accuracy_list_1, label=\"Train accuracy\")\n",
        "    plt.plot(x, val_accuracy_list_1, label=\"Validation accuracy\")\n",
        "    plt.xlabel(\"Epochs\")\n",
        "    plt.ylabel(\"Accuracy\")\n",
        "    plt.title(\"ResNet50\")\n",
        "    plt.legend()\n",
        "    plt.subplot(1,3,2)    \n",
        "    plt.plot(x, train_accuracy_list_2, label=\"Train accuracy\")\n",
        "    plt.plot(x, val_accuracy_list_2, label=\"Validation accuracy\")\n",
        "    plt.xlabel(\"Epochs\")\n",
        "    plt.ylabel(\"Accuracy\")\n",
        "    plt.title(\"DenseNet121\")\n",
        "    plt.legend()\n",
        "    plt.subplot(1,3,3)    \n",
        "    plt.plot(x, train_accuracy_list_3, label=\"Train accuracy\")\n",
        "    plt.plot(x, val_accuracy_list_3, label=\"Validation accuracy\")\n",
        "    plt.xlabel(\"Epochs\")\n",
        "    plt.ylabel(\"Accuracy\")\n",
        "    plt.title(\"Vgg16\")\n",
        "    plt.suptitle(\"Train vs Validation\")\n",
        "    plt.legend()\n"
      ],
      "metadata": {
        "id": "CKRGuFrNdMqg"
      },
      "execution_count": null,
      "outputs": []
    },
    {
      "cell_type": "code",
      "source": [
        "subplot(train_accuracy_1,train_accuracy_2,train_accuracy_3,val_accuracy_1,val_accuracy_2,val_accuracy_3)"
      ],
      "metadata": {
        "colab": {
          "base_uri": "https://localhost:8080/",
          "height": 359
        },
        "id": "B3ZIhSoam35D",
        "outputId": "8ca8f7fb-86b1-49fc-be64-74e1a0d49c71"
      },
      "execution_count": null,
      "outputs": [
        {
          "output_type": "display_data",
          "data": {
            "text/plain": [
              "<Figure size 1080x360 with 3 Axes>"
            ],
            "image/png": "[encoded data removed]"
          },
          "metadata": {
            "needs_background": "light"
          }
        }
      ]
    },
    {
      "cell_type": "markdown",
      "source": [
        "# Dataset-1"
      ],
      "metadata": {
        "id": "B8aa8D_8dYUp"
      }
    },
    {
      "cell_type": "code",
      "source": [
        "def load_checkpoint(filepath):\n",
        "    checkpoint = torch.load(filepath)\n",
        "    return checkpoint\n",
        "resNet = load_checkpoint(\"/content/drive/MyDrive/AI Final Project/resNet_tl_23.pth\")"
      ],
      "metadata": {
        "id": "H2F1Btrldaot"
      },
      "execution_count": null,
      "outputs": []
    },
    {
      "cell_type": "code",
      "source": [
        "resNet.keys()"
      ],
      "metadata": {
        "id": "z9ZvTtzzeHZV"
      },
      "execution_count": null,
      "outputs": []
    },
    {
      "cell_type": "code",
      "source": [
        "def load_checkpoint(filepath):\n",
        "    checkpoint = torch.load(filepath)\n",
        "    return checkpoint\n",
        "denseNet = load_checkpoint(\"/content/drive/MyDrive/AI Final Project/denseNet_23.pth\")"
      ],
      "metadata": {
        "id": "ze5o4J7XeHS2"
      },
      "execution_count": null,
      "outputs": []
    },
    {
      "cell_type": "code",
      "source": [
        "denseNet.keys()"
      ],
      "metadata": {
        "id": "ag9hITgjeHQI"
      },
      "execution_count": null,
      "outputs": []
    },
    {
      "cell_type": "code",
      "source": [
        "def load_checkpoint(filepath):\n",
        "    checkpoint = torch.load(filepath)\n",
        "    return checkpoint\n",
        "vgg = load_checkpoint(\"/content/drive/MyDrive/AI Final Project/vgg_23.pth\")"
      ],
      "metadata": {
        "id": "T3EMBVj3eHNu"
      },
      "execution_count": null,
      "outputs": []
    },
    {
      "cell_type": "code",
      "source": [
        "vgg.keys()"
      ],
      "metadata": {
        "id": "yJQDQ2e5eHLK"
      },
      "execution_count": null,
      "outputs": []
    },
    {
      "cell_type": "code",
      "source": [
        "resNet_train, resNet_val = resNet['training_accuracy_list'], resNet['val_accuracy_list']"
      ],
      "metadata": {
        "id": "eqnxKbA4eHIs"
      },
      "execution_count": null,
      "outputs": []
    },
    {
      "cell_type": "code",
      "source": [
        "denseNet_train, denseNet_val = denseNet['train_accuracy_list'], denseNet['val_accuracy_list']"
      ],
      "metadata": {
        "id": "xM65chpqeHF2"
      },
      "execution_count": null,
      "outputs": []
    },
    {
      "cell_type": "code",
      "source": [
        "vgg_train, vgg_val = vgg['training_accuracy_list'], vgg['val_accuracy_list']"
      ],
      "metadata": {
        "id": "uHFuqcSyeHAp"
      },
      "execution_count": null,
      "outputs": []
    },
    {
      "cell_type": "code",
      "source": [
        "def accuracyForEachEpoch(accuracy_list):\n",
        "    accuracy = []\n",
        "    sum = 0\n",
        "    for i, v in enumerate(accuracy_list):\n",
        "\n",
        "        if((i+1)%234==0):\n",
        "            accuracy.append(sum/234)\n",
        "            sum = 0\n",
        "        else: \n",
        "            sum += v\n",
        "\n",
        "    return accuracy"
      ],
      "metadata": {
        "id": "Chmr8IaXeG9g"
      },
      "execution_count": null,
      "outputs": []
    },
    {
      "cell_type": "code",
      "source": [
        "train_accuracy_1, train_accuracy_2, train_accuracy_3 = accuracyForEachEpoch(resNet_train), accuracyForEachEpoch(denseNet_train), accuracyForEachEpoch(vgg_train)"
      ],
      "metadata": {
        "id": "3jqtThpieG6k"
      },
      "execution_count": null,
      "outputs": []
    },
    {
      "cell_type": "code",
      "source": [
        "def train_val_comparison(train_accuracy_list_1, train_accuracy_list_2, train_accuracy_list_3, loader_length):\n",
        "    x = np.linspace(0, 6, num=6)\n",
        "    plt.figure(figsize=(15,5))\n",
        "    plt.plot(x, train_accuracy_list_1, label=\"ResNet50\")\n",
        "    plt.plot(x, train_accuracy_list_2, label=\"DenseNet121\")\n",
        "    plt.plot(x, train_accuracy_list_3, label=\"Vgg16\")\n",
        "    plt.xlabel(\"Epochs\")\n",
        "    plt.ylabel(\"Accuracy\")\n",
        "    plt.title(\"Validation\")\n",
        "    plt.legend()"
      ],
      "metadata": {
        "id": "G_Po6g7-eG3m"
      },
      "execution_count": null,
      "outputs": []
    },
    {
      "cell_type": "code",
      "source": [
        "train_val_comparison(train_accuracy_1, train_accuracy_2, train_accuracy_3, len(train_loader))"
      ],
      "metadata": {
        "id": "o6874EXTeGg7"
      },
      "execution_count": null,
      "outputs": []
    },
    {
      "cell_type": "code",
      "source": [
        "val_accuracy_1, val_accuracy_2, val_accuracy_3 = accuracyForEachEpoch(resNet_val), accuracyForEachEpoch(denseNet_val), accuracyForEachEpoch(vgg_val)"
      ],
      "metadata": {
        "id": "1p8NvsN3eGdo"
      },
      "execution_count": null,
      "outputs": []
    },
    {
      "cell_type": "code",
      "source": [
        "train_val_comparison(val_accuracy_1, val_accuracy_2, val_accuracy_3, len(train_loader))"
      ],
      "metadata": {
        "id": "qApYGbBXfPPq"
      },
      "execution_count": null,
      "outputs": []
    },
    {
      "cell_type": "code",
      "source": [
        "\n",
        "def subplot(train_accuracy_list_1,train_accuracy_list_2,train_accuracy_list_3,val_accuracy_list_1,val_accuracy_list_2,val_accuracy_list_3):\n",
        "    x = np.linspace(0, 6, num=6)\n",
        "    plt.figure(figsize=(15,5))\n",
        "    plt.subplot(1,3,1)    \n",
        "    plt.plot(x, train_accuracy_list_1, label=\"Train accuracy\")\n",
        "    plt.plot(x, val_accuracy_list_1, label=\"Validation accuracy\")\n",
        "    plt.xlabel(\"Epochs\")\n",
        "    plt.ylabel(\"Accuracy\")\n",
        "    plt.title(\"ResNet50\")\n",
        "    plt.legend()\n",
        "    plt.subplot(1,3,2)    \n",
        "    plt.plot(x, train_accuracy_list_2, label=\"Train accuracy\")\n",
        "    plt.plot(x, val_accuracy_list_2, label=\"Validation accuracy\")\n",
        "    plt.xlabel(\"Epochs\")\n",
        "    plt.ylabel(\"Accuracy\")\n",
        "    plt.title(\"DenseNet121\")\n",
        "    plt.legend()\n",
        "    plt.subplot(1,3,3)    \n",
        "    plt.plot(x, train_accuracy_list_3, label=\"Train accuracy\")\n",
        "    plt.plot(x, val_accuracy_list_3, label=\"Validation accuracy\")\n",
        "    plt.xlabel(\"Epochs\")\n",
        "    plt.ylabel(\"Accuracy\")\n",
        "    plt.title(\"Vgg16\")\n",
        "    plt.suptitle(\"Train vs Validation\")\n",
        "    plt.legend()\n"
      ],
      "metadata": {
        "id": "n4trSKEefRp7"
      },
      "execution_count": null,
      "outputs": []
    },
    {
      "cell_type": "code",
      "source": [
        "subplot(train_accuracy_1,train_accuracy_2,train_accuracy_3,val_accuracy_1,val_accuracy_2,val_accuracy_3)"
      ],
      "metadata": {
        "id": "UPwR6lCHsmmo"
      },
      "execution_count": null,
      "outputs": []
    },
    {
      "cell_type": "markdown",
      "source": [
        "# Transfer Learning"
      ],
      "metadata": {
        "id": "XZCEbbAXiPQ-"
      }
    },
    {
      "cell_type": "markdown",
      "source": [
        "## ResNet50"
      ],
      "metadata": {
        "id": "9e_ZcvJYkMcJ"
      }
    },
    {
      "cell_type": "code",
      "source": [
        "def load_checkpoint(filepath):\n",
        "    checkpoint = torch.load(filepath)\n",
        "    return checkpoint\n",
        "resNet = load_checkpoint(\"/content/drive/MyDrive/AI Final Project/resNet50.pth\")"
      ],
      "metadata": {
        "id": "R9LoQOk-iQ5q"
      },
      "execution_count": null,
      "outputs": []
    },
    {
      "cell_type": "code",
      "source": [
        "resNet.keys()"
      ],
      "metadata": {
        "id": "lH31-lfqix6o"
      },
      "execution_count": null,
      "outputs": []
    },
    {
      "cell_type": "code",
      "source": [
        "def load_checkpoint(filepath):\n",
        "    checkpoint = torch.load(filepath)\n",
        "    return checkpoint\n",
        "resNet_tl = load_checkpoint(\"/content/drive/MyDrive/AI Final Project/resNet50_tl.pth\")"
      ],
      "metadata": {
        "id": "B92juu9Yiy-g"
      },
      "execution_count": null,
      "outputs": []
    },
    {
      "cell_type": "code",
      "source": [
        "resNet_tl.keys()"
      ],
      "metadata": {
        "id": "MErRbe5li3cC"
      },
      "execution_count": null,
      "outputs": []
    },
    {
      "cell_type": "code",
      "source": [
        "resNet_train, resNet_val = resNet['train_accuracy_list'], resNet['val_accuracy_list']"
      ],
      "metadata": {
        "id": "CZsAyMv6i7Wg"
      },
      "execution_count": null,
      "outputs": []
    },
    {
      "cell_type": "code",
      "source": [
        "resNet_tl_train, resNet_tl_val = resNet_tl['train_accuracy_list'], resNet_tl['val_accuracy_list']"
      ],
      "metadata": {
        "id": "o3CIu3DmjBiT"
      },
      "execution_count": null,
      "outputs": []
    },
    {
      "cell_type": "code",
      "source": [
        "def accuracyForEachEpoch(accuracy_list):\n",
        "    accuracy = []\n",
        "    sum = 0\n",
        "    for i, v in enumerate(accuracy_list):\n",
        "\n",
        "        if((i+1)%88==0):\n",
        "            accuracy.append(sum/88)\n",
        "            sum = 0\n",
        "        else: \n",
        "            sum += v\n",
        "\n",
        "    return accuracy"
      ],
      "metadata": {
        "id": "-sFOL533jJyW"
      },
      "execution_count": null,
      "outputs": []
    },
    {
      "cell_type": "code",
      "source": [
        "train_accuracy_1, train_accuracy_2 = accuracyForEachEpoch(resNet_train), accuracyForEachEpoch(resNet_tl_train)"
      ],
      "metadata": {
        "id": "mB2qmhgSjPpR"
      },
      "execution_count": null,
      "outputs": []
    },
    {
      "cell_type": "code",
      "source": [
        "def train_val_comparison(train_accuracy_list_1, train_accuracy_list_2, loader_length):\n",
        "    x = np.linspace(0, 20, num=20)\n",
        "    plt.figure(figsize=(15,5))\n",
        "    plt.plot(x, train_accuracy_list_1, label=\"ResNet50\")\n",
        "    plt.plot(x, train_accuracy_list_2, label=\"ResNet50 with Transfer learning\")\n",
        "    plt.xlabel(\"Epochs\")\n",
        "    plt.ylabel(\"Accuracy\")\n",
        "    plt.title(\"Validation Accuracy\")\n",
        "    plt.legend()"
      ],
      "metadata": {
        "id": "rUfycdKIjb5b"
      },
      "execution_count": null,
      "outputs": []
    },
    {
      "cell_type": "code",
      "source": [
        "train_val_comparison(train_accuracy_1, train_accuracy_2, len(train_loader))"
      ],
      "metadata": {
        "id": "7M2ajCRVjklL"
      },
      "execution_count": null,
      "outputs": []
    },
    {
      "cell_type": "code",
      "source": [
        "val_accuracy_1, val_accuracy_2 = accuracyForEachEpoch(resNet_val), accuracyForEachEpoch(resNet_tl_val)"
      ],
      "metadata": {
        "id": "k83iO5a0jm4f"
      },
      "execution_count": null,
      "outputs": []
    },
    {
      "cell_type": "code",
      "source": [
        "train_val_comparison(val_accuracy_1, val_accuracy_2, len(train_loader))"
      ],
      "metadata": {
        "id": "Kb2sVoeTj87k"
      },
      "execution_count": null,
      "outputs": []
    },
    {
      "cell_type": "code",
      "source": [],
      "metadata": {
        "id": "LNafHJ_Vj_6a"
      },
      "execution_count": null,
      "outputs": []
    },
    {
      "cell_type": "markdown",
      "source": [
        "## DenseNet121"
      ],
      "metadata": {
        "id": "uwsmVUrFkScs"
      }
    },
    {
      "cell_type": "code",
      "source": [
        "def load_checkpoint(filepath):\n",
        "    checkpoint = torch.load(filepath)\n",
        "    return checkpoint\n",
        "denseNet = load_checkpoint(\"/content/drive/MyDrive/AI Final Project/checkpoint_denseNet.pth\")"
      ],
      "metadata": {
        "id": "oDZcZ32qkUdX"
      },
      "execution_count": null,
      "outputs": []
    },
    {
      "cell_type": "code",
      "source": [
        "denseNet.keys()"
      ],
      "metadata": {
        "id": "eEAnMG3GkhIK"
      },
      "execution_count": null,
      "outputs": []
    },
    {
      "cell_type": "code",
      "source": [
        "def load_checkpoint(filepath):\n",
        "    checkpoint = torch.load(filepath)\n",
        "    return checkpoint\n",
        "denseNet_lr = load_checkpoint(\"/content/drive/MyDrive/AI Final Project/checkpoint_denseNet_lr.pth\")"
      ],
      "metadata": {
        "id": "mkSOmse1kl37"
      },
      "execution_count": null,
      "outputs": []
    },
    {
      "cell_type": "code",
      "source": [
        "\n",
        "denseNet_lr.keys()"
      ],
      "metadata": {
        "id": "26fJZJUskoNd"
      },
      "execution_count": null,
      "outputs": []
    },
    {
      "cell_type": "code",
      "source": [
        "denseNet_train, denseNet_val = denseNet['training_accuracy_list'], denseNet['val_accuracy_list']"
      ],
      "metadata": {
        "id": "EF30THGbkoK3"
      },
      "execution_count": null,
      "outputs": []
    },
    {
      "cell_type": "code",
      "source": [
        "denseNet_tl_train, denseNet_tl_val = denseNet_lr['training_accuracy_list'], denseNet_lr['val_accuracy_list']"
      ],
      "metadata": {
        "id": "KCfR57s7koF5"
      },
      "execution_count": null,
      "outputs": []
    },
    {
      "cell_type": "code",
      "source": [
        "def accuracyForEachEpoch(accuracy_list):\n",
        "    accuracy = []\n",
        "    sum = 0\n",
        "    for i, v in enumerate(accuracy_list):\n",
        "\n",
        "        if((i+1)%88==0):\n",
        "            accuracy.append(sum/88)\n",
        "            sum = 0\n",
        "        else: \n",
        "            sum += v\n",
        "\n",
        "    return accuracy"
      ],
      "metadata": {
        "id": "ySwEmd0gkoEA"
      },
      "execution_count": null,
      "outputs": []
    },
    {
      "cell_type": "code",
      "source": [
        "train_accuracy_1, train_accuracy_2 = accuracyForEachEpoch(denseNet_train), accuracyForEachEpoch(denseNet_tl_train)"
      ],
      "metadata": {
        "id": "LYd88YvFkoBv"
      },
      "execution_count": null,
      "outputs": []
    },
    {
      "cell_type": "code",
      "source": [
        "def train_val_comparison(train_accuracy_list_1, train_accuracy_list_2, loader_length):\n",
        "    x = np.linspace(0, 20, num=20)\n",
        "    plt.figure(figsize=(15,5))\n",
        "    plt.plot(x, train_accuracy_list_1, label=\"DenseNet121\")\n",
        "    plt.plot(x, train_accuracy_list_2, label=\"DenseNet121 with Transfer learning\")\n",
        "    plt.xlabel(\"Epochs\")\n",
        "    plt.ylabel(\"Accuracy\")\n",
        "    plt.title(\"Train Accuracy\")\n",
        "    plt.legend()"
      ],
      "metadata": {
        "id": "1mEhJcBAkn_Y"
      },
      "execution_count": null,
      "outputs": []
    },
    {
      "cell_type": "code",
      "source": [
        "train_val_comparison(train_accuracy_1, train_accuracy_2, len(train_loader))"
      ],
      "metadata": {
        "id": "1TXLOwzqkn85"
      },
      "execution_count": null,
      "outputs": []
    },
    {
      "cell_type": "code",
      "source": [
        "val_accuracy_1, val_accuracy_2 = accuracyForEachEpoch(denseNet_val), accuracyForEachEpoch(denseNet_tl_val)"
      ],
      "metadata": {
        "id": "IdxwXmsJl3Jd"
      },
      "execution_count": null,
      "outputs": []
    },
    {
      "cell_type": "code",
      "source": [
        "train_val_comparison(val_accuracy_1, val_accuracy_2, len(train_loader))"
      ],
      "metadata": {
        "id": "v41yGWKPl67o"
      },
      "execution_count": null,
      "outputs": []
    },
    {
      "cell_type": "code",
      "source": [],
      "metadata": {
        "id": "0MdQ_ovfmEH_"
      },
      "execution_count": null,
      "outputs": []
    },
    {
      "cell_type": "markdown",
      "source": [
        "# Hyper-parameter tuning"
      ],
      "metadata": {
        "id": "JVE9HFFBm67P"
      }
    },
    {
      "cell_type": "markdown",
      "source": [
        "## Learning rate"
      ],
      "metadata": {
        "id": "c2v-tBB_m-j4"
      }
    },
    {
      "cell_type": "code",
      "source": [
        "def load_checkpoint(filepath):\n",
        "    checkpoint = torch.load(filepath)\n",
        "    return checkpoint\n",
        "denseNet = load_checkpoint(\"/content/drive/MyDrive/AI Final Project/checkpoint_denseNet.pth\")"
      ],
      "metadata": {
        "id": "oA5kgySFm9as"
      },
      "execution_count": null,
      "outputs": []
    },
    {
      "cell_type": "code",
      "source": [
        "denseNet.keys()"
      ],
      "metadata": {
        "id": "HSwNg9R_nGWi"
      },
      "execution_count": null,
      "outputs": []
    },
    {
      "cell_type": "code",
      "source": [
        "def load_checkpoint(filepath):\n",
        "    checkpoint = torch.load(filepath)\n",
        "    return checkpoint\n",
        "denseNet_best = load_checkpoint(\"/content/drive/MyDrive/AI Final Project/dense_net_bestLR8Class1.pth\")"
      ],
      "metadata": {
        "id": "nJ-QyonhnI-f"
      },
      "execution_count": null,
      "outputs": []
    },
    {
      "cell_type": "code",
      "source": [
        "denseNet_best.keys()"
      ],
      "metadata": {
        "colab": {
          "base_uri": "https://localhost:8080/"
        },
        "id": "P1_kJ2gEnOuV",
        "outputId": "63e2571a-8066-4821-bbc4-1ca01c886f35"
      },
      "execution_count": null,
      "outputs": [
        {
          "output_type": "execute_result",
          "data": {
            "text/plain": [
              "dict_keys(['model', 'training_accuracy_list', 'val_accuracy_list', 'state_dict'])"
            ]
          },
          "metadata": {},
          "execution_count": 12
        }
      ]
    },
    {
      "cell_type": "code",
      "source": [
        "train_accuracy_1, train_accuracy_2 = accuracyForEachEpoch(denseNet[\"training_accuracy_list\"]), accuracyForEachEpoch(denseNet_best[\"training_accuracy_list\"])"
      ],
      "metadata": {
        "id": "IVKHVJbenQgr"
      },
      "execution_count": null,
      "outputs": []
    },
    {
      "cell_type": "code",
      "source": [
        "  def train_val_comparison(train_accuracy_list_1, train_accuracy_list_2, loader_length):\n",
        "    x = np.linspace(0, 20, num=20)\n",
        "    plt.figure(figsize=(15,5))\n",
        "    plt.plot(x, train_accuracy_list_1, label=\"lr=0.001\")\n",
        "    plt.plot(x, train_accuracy_list_2, label=\"lr=000.1\")\n",
        "    plt.xlabel(\"Epochs\")\n",
        "    plt.ylabel(\"Accuracy\")\n",
        "    plt.title(\"Train Accuracy\")\n",
        "    plt.legend()"
      ],
      "metadata": {
        "id": "nuonfGp5Pd-w"
      },
      "execution_count": null,
      "outputs": []
    },
    {
      "cell_type": "code",
      "source": [
        "train_val_comparison(train_accuracy_1, train_accuracy_2, _)"
      ],
      "metadata": {
        "id": "TCBUPJW-3ftX"
      },
      "execution_count": null,
      "outputs": []
    },
    {
      "cell_type": "code",
      "source": [
        "val_accuracy_1, val_accuracy_2 = accuracyForEachEpoch(denseNet[\"val_accuracy_list\"]), accuracyForEachEpoch(denseNet_best[\"val_accuracy_list\"])"
      ],
      "metadata": {
        "id": "JnuRyZ2S3nWH"
      },
      "execution_count": null,
      "outputs": []
    },
    {
      "cell_type": "code",
      "source": [
        "train_val_comparison(val_accuracy_1, val_accuracy_2, _)"
      ],
      "metadata": {
        "id": "hXn64ruy3xxP"
      },
      "execution_count": null,
      "outputs": []
    },
    {
      "cell_type": "code",
      "source": [],
      "metadata": {
        "id": "vvxJ5Md23_13"
      },
      "execution_count": null,
      "outputs": []
    }
  ]
}